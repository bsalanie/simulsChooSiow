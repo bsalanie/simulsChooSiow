{
 "cells": [
  {
   "cell_type": "code",
   "execution_count": 1,
   "metadata": {},
   "outputs": [],
   "source": [
    "import numpy as np\n",
    "import scipy.stats as sts\n",
    "from marriage_Market import get_eq_marriage, marriage_patterns\n",
    "from math import sqrt, floor\n",
    "from CS_draws import CS_random_surplus_direct\n",
    "from Timer import Timer"
   ]
  },
  {
   "cell_type": "code",
   "execution_count": 2,
   "metadata": {},
   "outputs": [],
   "source": [
    "def equal_cats(nmen, ncatX):\n",
    "    x = np.empty(nmen, dtype=int)\n",
    "    nmen_cat = floor(nmen/ncatX)\n",
    "    for ix in range(ncatX):\n",
    "        x[ix*nmen_cat:(ix+1)*nmen_cat] = ix + 1\n",
    "    # just in case\n",
    "    x[ncatX*nmen_cat:] = ncatX\n",
    "    return x"
   ]
  },
  {
   "cell_type": "code",
   "execution_count": 3,
   "metadata": {},
   "outputs": [],
   "source": [
    "# numbers of X and Y categories\n",
    "ncatX = ncatY = 2\n",
    "\n",
    "# numbers of men and women\n",
    "nmen = nwomen = 100\n",
    "\n",
    "# surplus Phi matrix\n",
    "Phi11, Phi12, Phi21, Phi22 = 0.5, 1.0, 1.0, 1.6\n",
    "Phi_sys = np.array([[Phi11, Phi12], [Phi21, Phi22]])\n",
    "\n",
    "typeIEV = sts.gumbel_r()\n",
    "\n",
    "# types of men and women\n",
    "x = equal_cats(nmen, ncatX)\n",
    "y = equal_cats(nwomen, ncatY)\n",
    "\n",
    "# random surplus\n",
    "Phi_rand = CS_random_surplus_direct(Phi_sys, x, y, typeIEV)\n",
    "\n",
    "# print(Phi_rand)\n",
    "\n",
    "  \n"
   ]
  },
  {
   "cell_type": "code",
   "execution_count": 4,
   "metadata": {},
   "outputs": [
    {
     "name": "stdout",
     "output_type": "stream",
     "text": [
      "Status: Optimal\n",
      "Computing the equilibrium with 100 men and 100 women  took 2.336 seconds\n",
      "\n",
      "muxy:\n",
      " [[16. 22.]\n",
      " [19. 21.]]\n",
      "\n",
      "mux0:\n",
      " [12. 10.]\n",
      "\n",
      "mu0y:\n",
      " [15.  7.]\n",
      "\n",
      "\n",
      "Phi_est: [[0.35222059 1.75126811]\n",
      " [0.87824266 1.84054963]]\n"
     ]
    }
   ],
   "source": [
    "with Timer() as t:\n",
    "    marriage_eq, marriage_probas = get_eq_marriage(Phi_rand)\n",
    "\n",
    "print(f\"Computing the equilibrium with {nmen} men and {nwomen} women  took {t.elapsed:.3f} seconds\")\n",
    "\n",
    "muxy, mux0, mu0y = marriage_patterns(marriage_probas, x, y)\n",
    "\n",
    "print(f\"\\nmuxy:\\n {muxy}\")\n",
    "print(f\"\\nmux0:\\n {mux0}\")\n",
    "print(f\"\\nmu0y:\\n {mu0y}\")\n",
    "\n",
    "Phi_est = np.log(muxy * muxy / np.outer(mux0, mu0y))\n",
    "\n",
    "print(f\"\\n\\nPhi_est: {Phi_est}\")"
   ]
  },
  {
   "cell_type": "code",
   "execution_count": 5,
   "metadata": {},
   "outputs": [],
   "source": [
    "\n",
    "\n",
    "def estimate_Phi():\n",
    "    # random surplus\n",
    "    Phi_rand = CS_random_surplus_direct(Phi_sys, x, y, typeIEV)\n",
    "    marriage_eq, marriage_probas = get_eq_marriage(Phi_rand)\n",
    "    muxy, mux0, mu0y = marriage_patterns(marriage_probas, x, y)\n",
    "    Phi_est = np.log(muxy * muxy / np.outer(mux0, mu0y))\n",
    "    return Phi_est\n",
    "\n",
    "def Phi_comp(Phi):\n",
    "    return Phi[0, 0] + Phi[1, 1] - Phi[0, 1] - Phi[1, 0]\n",
    "    "
   ]
  },
  {
   "cell_type": "code",
   "execution_count": 6,
   "metadata": {},
   "outputs": [
    {
     "name": "stdout",
     "output_type": "stream",
     "text": [
      "Status: Optimal\n"
     ]
    },
    {
     "data": {
      "text/plain": [
       "0.01746735993750903"
      ]
     },
     "execution_count": 6,
     "metadata": {},
     "output_type": "execute_result"
    }
   ],
   "source": [
    "Phi_comp(estimate_Phi())"
   ]
  },
  {
   "cell_type": "code",
   "execution_count": null,
   "metadata": {},
   "outputs": [
    {
     "name": "stdout",
     "output_type": "stream",
     "text": [
      "\n",
      "True complementarity = 0.10000000000000009\n",
      "Status: Optimal\n",
      "Sample 0: estimated complementarity 0.6063725179754926\n",
      "Status: Optimal\n",
      "Sample 1: estimated complementarity -0.3770942031042215\n",
      "Status: Optimal\n",
      "Sample 2: estimated complementarity 0.10212943385913453\n",
      "Status: Optimal\n",
      "Sample 3: estimated complementarity 0.3821104735254184\n",
      "Status: Optimal\n",
      "Sample 4: estimated complementarity -0.21699408949024268\n",
      "Status: Optimal\n",
      "Sample 5: estimated complementarity 0.15007037188582806\n",
      "Status: Optimal\n",
      "Sample 6: estimated complementarity -0.09402792953635275\n",
      "Status: Optimal\n",
      "Sample 7: estimated complementarity 0.05756803192155191\n",
      "Status: Optimal\n",
      "Sample 8: estimated complementarity 0.166285800423419\n",
      "Status: Optimal\n",
      "Sample 9: estimated complementarity 0.8575384184364329\n",
      "Status: Optimal\n",
      "Sample 10: estimated complementarity -0.3555606884695137\n",
      "Status: Optimal\n",
      "Sample 11: estimated complementarity -0.6043999743480555\n",
      "Status: Optimal\n",
      "Sample 12: estimated complementarity 0.411525438604864\n",
      "Status: Optimal\n",
      "Sample 13: estimated complementarity 0.48417359835773655\n",
      "Status: Optimal\n",
      "Sample 14: estimated complementarity 0.15048978350640563\n",
      "Status: Optimal\n",
      "Sample 15: estimated complementarity -0.22376662705839045\n",
      "Status: Optimal\n",
      "Sample 16: estimated complementarity 0.6758689848218304\n",
      "Status: Optimal\n",
      "Sample 17: estimated complementarity 0.4112912962176138\n",
      "Status: Optimal\n",
      "Sample 18: estimated complementarity 0.06099833345257499\n",
      "Status: Optimal\n",
      "Sample 19: estimated complementarity 0.5074721135957999\n",
      "Status: Optimal\n",
      "Sample 20: estimated complementarity 0.16843089846355075\n",
      "Status: Optimal\n",
      "Sample 21: estimated complementarity -0.335960879046594\n",
      "Status: Optimal\n",
      "Sample 22: estimated complementarity -0.08688025739197902\n",
      "Status: Optimal\n",
      "Sample 23: estimated complementarity -0.3117336584203676\n",
      "Status: Optimal\n",
      "Sample 24: estimated complementarity -0.019570311664943385\n",
      "Status: Optimal\n",
      "Sample 25: estimated complementarity 0.24326043728844926\n",
      "Status: Optimal\n",
      "Sample 26: estimated complementarity 0.5692008118287457\n",
      "Status: Optimal\n",
      "Sample 27: estimated complementarity -0.048612348218891155\n",
      "Status: Optimal\n",
      "Sample 28: estimated complementarity 0.38831202888191485\n",
      "Status: Optimal\n",
      "Sample 29: estimated complementarity -0.17107333595468943\n",
      "Status: Optimal\n",
      "Sample 30: estimated complementarity 0.0021656742776642313\n",
      "Status: Optimal\n",
      "Sample 31: estimated complementarity 0.5682085022077935\n",
      "Status: Optimal\n",
      "Sample 32: estimated complementarity -0.40836912712951046\n"
     ]
    }
   ],
   "source": [
    "# numbers of men and women\n",
    "nmen = nwomen = 400\n",
    "\n",
    "# numbers of X and Y categories\n",
    "ncatX = ncatY = 2\n",
    "\n",
    "# surplus Phi matrix\n",
    "Phi11, Phi12, Phi21, Phi22 = 0.5, 1.0, 1.0, 1.6\n",
    "Phi_sys = np.array([[Phi11, Phi12], [Phi21, Phi22]])\n",
    "\n",
    "typeIEV = sts.gumbel_r()\n",
    "\n",
    "# types of men and women\n",
    "x = equal_cats(nmen, ncatX)\n",
    "y = equal_cats(nwomen, ncatY)\n",
    "\n",
    "\n",
    "\n",
    "nsimuls = 100\n",
    "Phi_est_sim = np.zeros((nsimuls, ncatX, ncatY))\n",
    "Phi_comp_true = Phi_comp(Phi_sys)\n",
    "print(f\"\\nTrue complementarity = {Phi_comp_true}\")\n",
    "Phi_comp_sim = np.zeros(nsimuls)\n",
    "for isimul in range(nsimuls):\n",
    "    Phi_est = estimate_Phi()\n",
    "    Phi_est_sim[isimul, :, :] = Phi_est\n",
    "    Phi_comp_sim[isimul] = Phi_comp(Phi_est)\n",
    "    print(f\"Sample {isimul}: estimated complementarity {Phi_comp_sim[isimul]}\")\n",
    "    \n",
    "np.save(\"Phi_est_sim.npy\", Phi_est_sim)\n",
    "np.save(\"Phi_comp_sim.npy\", Phi_comp_sim)\n"
   ]
  },
  {
   "cell_type": "raw",
   "metadata": {},
   "source": [
    "The mean and standard error of the estimated complementarity (true value 0.1)  are\n"
   ]
  },
  {
   "cell_type": "code",
   "execution_count": 19,
   "metadata": {},
   "outputs": [
    {
     "name": "stdout",
     "output_type": "stream",
     "text": [
      "0.10970683932766495 and 0.40496811748134387\n"
     ]
    }
   ],
   "source": [
    "print(f\"{Phi_comp_sim.mean()} and {Phi_comp_sim.std()}\")"
   ]
  },
  {
   "cell_type": "code",
   "execution_count": null,
   "metadata": {},
   "outputs": [],
   "source": []
  }
 ],
 "metadata": {
  "kernelspec": {
   "display_name": "optim",
   "language": "python",
   "name": "optim"
  },
  "language_info": {
   "codemirror_mode": {
    "name": "ipython",
    "version": 3
   },
   "file_extension": ".py",
   "mimetype": "text/x-python",
   "name": "python",
   "nbconvert_exporter": "python",
   "pygments_lexer": "ipython3",
   "version": "3.7.3"
  }
 },
 "nbformat": 4,
 "nbformat_minor": 4
}
